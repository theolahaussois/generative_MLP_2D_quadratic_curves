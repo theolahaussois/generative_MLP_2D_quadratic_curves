{
 "cells": [
  {
   "cell_type": "code",
   "execution_count": 1,
   "id": "c11bd2db-c549-4535-bcff-ecaf4733910f",
   "metadata": {},
   "outputs": [],
   "source": [
    "import os\n",
    "import numpy as np\n",
    "import pandas as pd\n",
    "import matplotlib.pyplot as plt\n",
    "from PIL import Image\n",
    "from tqdm import tqdm\n",
    "from sklearn.decomposition import PCA\n",
    "import torch\n",
    "import torch.nn as nn\n",
    "import torch.optim as optim\n",
    "from torchvision import transforms\n",
    "from torch.utils.data import Dataset, DataLoader\n",
    "from torch.utils.data import DataLoader, random_split\n",
    "os.makedirs(\"images\", exist_ok=True)\n",
    "\n"
   ]
  },
  {
   "cell_type": "markdown",
   "id": "a0c652bc-6a42-47d8-b91b-3c58a0f8db60",
   "metadata": {},
   "source": [
    "## Génération des images"
   ]
  },
  {
   "cell_type": "code",
   "execution_count": 4,
   "id": "e9fdd8d4-ef3e-4b9f-89ee-0c5b5016e1dc",
   "metadata": {},
   "outputs": [],
   "source": [
    "def generate_image(a, b, c, idx):\n",
    "    x = np.linspace(-10, 10, 100)\n",
    "    y = a * x**2 + b * x + c\n",
    "    plt.figure(figsize=(2, 2), dpi=32)\n",
    "    plt.plot(x, y, color='black', linewidth=3)\n",
    "    plt.ylim(-200, 200)\n",
    "    plt.axis('off')\n",
    "    plt.tight_layout()\n",
    "    path = f\"images/img_{idx:03}.png\"\n",
    "    plt.savefig(path, bbox_inches='tight', pad_inches=0)\n",
    "    plt.close()\n",
    "    return path"
   ]
  },
  {
   "cell_type": "markdown",
   "id": "ab57ede5-4fee-454e-95b0-5b4d3e01bc53",
   "metadata": {},
   "source": [
    "## Génération du fichier paramètres"
   ]
  },
  {
   "cell_type": "code",
   "execution_count": 7,
   "id": "2ab16aa2-cf76-4498-94f5-97ee837d504a",
   "metadata": {},
   "outputs": [],
   "source": [
    "def generate_excel(param_list, path='params.xlsx'):\n",
    "    df = pd.DataFrame(param_list, columns=['a', 'b', 'c'])\n",
    "    df.to_excel(path, index=False)\n"
   ]
  },
  {
   "cell_type": "code",
   "execution_count": 9,
   "id": "803900fe-30aa-48f1-8e5e-e301c1c5f73b",
   "metadata": {},
   "outputs": [],
   "source": [
    "def generate_all_images_from_excel(excel_path='params.xlsx'):\n",
    "    df = pd.read_excel(excel_path)\n",
    "    for idx, row in tqdm(df.iterrows(), total=len(df)):\n",
    "        generate_image(row['a'], row['b'], row['c'], idx)"
   ]
  },
  {
   "cell_type": "markdown",
   "id": "9a026e11-5ff0-4410-bb3e-15097923c068",
   "metadata": {},
   "source": [
    "## Construction du MLP"
   ]
  },
  {
   "cell_type": "code",
   "execution_count": 12,
   "id": "a25fbc93-ed5b-4e68-a2f6-e127e60b9008",
   "metadata": {},
   "outputs": [],
   "source": [
    "class ImageRegressionDataset(Dataset):\n",
    "    def __init__(self, excel_path, image_folder):\n",
    "        self.df = pd.read_excel(excel_path)\n",
    "        self.image_folder = image_folder\n",
    "        self.transform = transforms.Compose([\n",
    "            transforms.Resize((128, 128)),\n",
    "            transforms.ToTensor(),  \n",
    "        ])\n",
    "\n",
    "    def __len__(self):\n",
    "        return len(self.df)\n",
    "\n",
    "    def __getitem__(self, idx):\n",
    "        params = self.df.iloc[idx][['a', 'b', 'c']].values.astype(np.float32)\n",
    "        img_path = os.path.join(self.image_folder, f\"img_{idx:03}.png\")\n",
    "        image = Image.open(img_path).convert('L')  \n",
    "        image = self.transform(image)\n",
    "        return torch.tensor(params), image\n"
   ]
  },
  {
   "cell_type": "code",
   "execution_count": 14,
   "id": "4f160af5-5cf5-44ea-869b-7c35f9f0287a",
   "metadata": {},
   "outputs": [],
   "source": [
    "class MLP(nn.Module):\n",
    "    def __init__(self):\n",
    "        super().__init__()\n",
    "        self.model = nn.Sequential(\n",
    "            nn.Linear(3, 512),\n",
    "            nn.ReLU(),\n",
    "            nn.Linear(512, 1024),\n",
    "            nn.ReLU(),\n",
    "            nn.Linear(1024, 128*128),\n",
    "            nn.Sigmoid()\n",
    "        )\n",
    "\n",
    "    def forward(self, x):\n",
    "        return self.model(x)\n"
   ]
  },
  {
   "cell_type": "code",
   "execution_count": 16,
   "id": "04eb51ba-0a1f-4631-82a3-1db907d098d8",
   "metadata": {},
   "outputs": [],
   "source": [
    "def main_training():\n",
    "    # Chargement du dataset complet\n",
    "    dataset = ImageRegressionDataset('params.xlsx', 'images')\n",
    "\n",
    "    # Définition des tailles pour train / val / test\n",
    "    train_size = int(0.7 * len(dataset))\n",
    "    val_size = int(0.15 * len(dataset))\n",
    "    test_size = len(dataset) - train_size - val_size\n",
    "\n",
    "    # Découpage aléatoire\n",
    "    train_dataset, val_dataset, test_dataset = random_split(dataset, [train_size, val_size, test_size])\n",
    "\n",
    "    # DataLoaders\n",
    "    train_loader = DataLoader(train_dataset, batch_size=8, shuffle=True)\n",
    "    val_loader = DataLoader(val_dataset, batch_size=8, shuffle=False)\n",
    "    test_loader = DataLoader(test_dataset, batch_size=8, shuffle=False)\n",
    "\n",
    "    # Modèle, optimizer et loss\n",
    "    model = MLP()\n",
    "    optimizer = optim.Adam(model.parameters(), lr=1e-3)\n",
    "    criterion = nn.MSELoss()\n",
    "\n",
    "    # Boucle d'entraînement\n",
    "    for epoch in range(50):\n",
    "        model.train()\n",
    "        train_loss = 0\n",
    "        for inputs, targets in train_loader:\n",
    "            targets = targets.view(inputs.size(0), -1)\n",
    "            outputs = model(inputs)\n",
    "            loss = criterion(outputs, targets)\n",
    "\n",
    "            optimizer.zero_grad()\n",
    "            loss.backward()\n",
    "            optimizer.step()\n",
    "            train_loss += loss.item()\n",
    "\n",
    "        train_loss /= len(train_loader)\n",
    "\n",
    "        # Validation\n",
    "        model.eval()\n",
    "        val_loss = 0\n",
    "        with torch.no_grad():\n",
    "            for inputs, targets in val_loader:\n",
    "                targets = targets.view(inputs.size(0), -1)\n",
    "                outputs = model(inputs)\n",
    "                val_loss += criterion(outputs, targets).item()\n",
    "        val_loss /= len(val_loader)\n",
    "\n",
    "        print(f\"Epoch {epoch+1}, Train Loss = {train_loss:.4f}, Val Loss = {val_loss:.4f}\")\n",
    "\n",
    "    # Sauvegarde du modèle pour plus tard\n",
    "    torch.save(model.state_dict(), 'mlp_weights.pth')"
   ]
  },
  {
   "cell_type": "markdown",
   "id": "f71c8365-6a8a-46d4-886e-0d2b67b801f4",
   "metadata": {},
   "source": [
    "## Inference"
   ]
  },
  {
   "cell_type": "code",
   "execution_count": 19,
   "id": "42b6b31a-b3d5-4429-85b3-09464e1029af",
   "metadata": {},
   "outputs": [],
   "source": [
    "def main_inference(a, b, c, output_folder='predictions'):\n",
    "    os.makedirs(output_folder, exist_ok=True)\n",
    "\n",
    "    model = MLP()\n",
    "    model.load_state_dict(torch.load('mlp_weights.pth'))\n",
    "    model.eval()\n",
    "\n",
    "    with torch.no_grad():\n",
    "        input_tensor = torch.tensor([[a, b, c]], dtype=torch.float32)\n",
    "        output = model(input_tensor).view(128, 128).numpy()\n",
    "        output[output < 0.8] *= 0.2 \n",
    "        plt.imshow(output, cmap='gray')\n",
    "        plt.axis('off')\n",
    "        image_path = os.path.join(output_folder, f\"prediction_a{a}_b{b}_c{c}.png\")\n",
    "        plt.savefig(image_path, bbox_inches='tight', pad_inches=0)\n",
    "        plt.close()\n",
    "\n",
    "    print(\"Image sauvegardée dans le fichier predictions\")"
   ]
  },
  {
   "cell_type": "markdown",
   "id": "1bd35581-f172-4fc6-8511-d1080a661ce3",
   "metadata": {},
   "source": [
    "## Entraînement du modèle"
   ]
  },
  {
   "cell_type": "code",
   "execution_count": 56,
   "id": "ddcc011e-5a24-40e1-baac-bfc4c0651033",
   "metadata": {},
   "outputs": [
    {
     "name": "stderr",
     "output_type": "stream",
     "text": [
      "100%|███████████████████████████████████████| 1000/1000 [00:15<00:00, 66.21it/s]\n"
     ]
    },
    {
     "name": "stdout",
     "output_type": "stream",
     "text": [
      "Epoch 1, Train Loss = 0.0198, Val Loss = 0.0143\n",
      "Epoch 2, Train Loss = 0.0140, Val Loss = 0.0139\n",
      "Epoch 3, Train Loss = 0.0136, Val Loss = 0.0136\n",
      "Epoch 4, Train Loss = 0.0121, Val Loss = 0.0106\n",
      "Epoch 5, Train Loss = 0.0100, Val Loss = 0.0095\n",
      "Epoch 6, Train Loss = 0.0089, Val Loss = 0.0083\n",
      "Epoch 7, Train Loss = 0.0081, Val Loss = 0.0078\n",
      "Epoch 8, Train Loss = 0.0074, Val Loss = 0.0068\n",
      "Epoch 9, Train Loss = 0.0066, Val Loss = 0.0064\n",
      "Epoch 10, Train Loss = 0.0061, Val Loss = 0.0057\n",
      "Epoch 11, Train Loss = 0.0055, Val Loss = 0.0052\n",
      "Epoch 12, Train Loss = 0.0051, Val Loss = 0.0057\n",
      "Epoch 13, Train Loss = 0.0048, Val Loss = 0.0046\n",
      "Epoch 14, Train Loss = 0.0044, Val Loss = 0.0041\n",
      "Epoch 15, Train Loss = 0.0041, Val Loss = 0.0041\n",
      "Epoch 16, Train Loss = 0.0040, Val Loss = 0.0041\n",
      "Epoch 17, Train Loss = 0.0037, Val Loss = 0.0038\n",
      "Epoch 18, Train Loss = 0.0036, Val Loss = 0.0033\n",
      "Epoch 19, Train Loss = 0.0032, Val Loss = 0.0031\n",
      "Epoch 20, Train Loss = 0.0030, Val Loss = 0.0029\n",
      "Epoch 21, Train Loss = 0.0029, Val Loss = 0.0032\n",
      "Epoch 22, Train Loss = 0.0028, Val Loss = 0.0030\n",
      "Epoch 23, Train Loss = 0.0027, Val Loss = 0.0027\n",
      "Epoch 24, Train Loss = 0.0025, Val Loss = 0.0024\n",
      "Epoch 25, Train Loss = 0.0024, Val Loss = 0.0025\n",
      "Epoch 26, Train Loss = 0.0023, Val Loss = 0.0023\n",
      "Epoch 27, Train Loss = 0.0022, Val Loss = 0.0021\n",
      "Epoch 28, Train Loss = 0.0022, Val Loss = 0.0023\n",
      "Epoch 29, Train Loss = 0.0021, Val Loss = 0.0023\n",
      "Epoch 30, Train Loss = 0.0020, Val Loss = 0.0021\n",
      "Epoch 31, Train Loss = 0.0018, Val Loss = 0.0018\n",
      "Epoch 32, Train Loss = 0.0018, Val Loss = 0.0020\n",
      "Epoch 33, Train Loss = 0.0018, Val Loss = 0.0019\n",
      "Epoch 34, Train Loss = 0.0017, Val Loss = 0.0016\n",
      "Epoch 35, Train Loss = 0.0016, Val Loss = 0.0017\n",
      "Epoch 36, Train Loss = 0.0015, Val Loss = 0.0015\n",
      "Epoch 37, Train Loss = 0.0014, Val Loss = 0.0013\n",
      "Epoch 38, Train Loss = 0.0014, Val Loss = 0.0016\n",
      "Epoch 39, Train Loss = 0.0014, Val Loss = 0.0015\n",
      "Epoch 40, Train Loss = 0.0013, Val Loss = 0.0012\n",
      "Epoch 41, Train Loss = 0.0013, Val Loss = 0.0014\n",
      "Epoch 42, Train Loss = 0.0013, Val Loss = 0.0013\n",
      "Epoch 43, Train Loss = 0.0012, Val Loss = 0.0013\n",
      "Epoch 44, Train Loss = 0.0011, Val Loss = 0.0011\n",
      "Epoch 45, Train Loss = 0.0011, Val Loss = 0.0011\n",
      "Epoch 46, Train Loss = 0.0011, Val Loss = 0.0011\n",
      "Epoch 47, Train Loss = 0.0011, Val Loss = 0.0010\n",
      "Epoch 48, Train Loss = 0.0010, Val Loss = 0.0011\n",
      "Epoch 49, Train Loss = 0.0010, Val Loss = 0.0011\n",
      "Epoch 50, Train Loss = 0.0010, Val Loss = 0.0010\n",
      "Final Test Loss = 0.0009\n"
     ]
    }
   ],
   "source": [
    "a_vals = np.linspace(1, 3, 10)\n",
    "b_vals = np.linspace(10, 30, 10)\n",
    "c_vals = np.linspace(1, 3, 10)\n",
    "param_list = [(a, b, c) for a in a_vals for b in b_vals for c in c_vals]\n",
    "generate_excel(param_list)\n",
    "generate_all_images_from_excel()\n",
    "\n",
    "# Entraînement\n",
    "main_training()\n",
    "\n",
    "# Reconstruction du test set\n",
    "dataset = ImageRegressionDataset('params.xlsx', 'images')\n",
    "train_size = int(0.7 * len(dataset))\n",
    "val_size = int(0.15 * len(dataset))\n",
    "test_size = len(dataset) - train_size - val_size\n",
    "_, _, test_dataset = random_split(dataset, [train_size, val_size, test_size])\n",
    "test_loader = DataLoader(test_dataset, batch_size=8, shuffle=False)\n",
    "\n",
    "# Chargement du modèle\n",
    "model = MLP()\n",
    "model.load_state_dict(torch.load('mlp_weights.pth'))\n",
    "model.eval()\n",
    "\n",
    "criterion = nn.MSELoss()\n",
    "test_loss = 0\n",
    "with torch.no_grad():\n",
    "    for inputs, targets in test_loader:\n",
    "        targets = targets.view(inputs.size(0), -1)\n",
    "        outputs = model(inputs)\n",
    "        test_loss += criterion(outputs, targets).item()\n",
    "test_loss /= len(test_loader)\n",
    "\n",
    "print(f\"Final Test Loss = {test_loss:.4f}\")\n"
   ]
  },
  {
   "cell_type": "markdown",
   "id": "957e4cc8-3ff4-4cc0-8616-c8db1a086e8f",
   "metadata": {},
   "source": [
    "## Prédictions"
   ]
  },
  {
   "cell_type": "code",
   "execution_count": 58,
   "id": "5b35da6f-0c61-49a3-80ec-0b4979a96a51",
   "metadata": {},
   "outputs": [
    {
     "name": "stdout",
     "output_type": "stream",
     "text": [
      "Image sauvegardée dans le fichier predictions\n"
     ]
    }
   ],
   "source": [
    "main_inference(4,8,3)"
   ]
  },
  {
   "cell_type": "markdown",
   "id": "d8615482-4a11-4b18-9130-ed0cf255a028",
   "metadata": {},
   "source": [
    "## Analyse en composantes principales "
   ]
  },
  {
   "cell_type": "code",
   "execution_count": null,
   "id": "84b169a3-1c3e-4c8d-92d8-bb59bd940c23",
   "metadata": {},
   "outputs": [],
   "source": [
    "def apply_pca(X, n_components):\n",
    "    pca = PCA(n_components=n_components)\n",
    "    \n",
    "    # Projection\n",
    "    X_pca = pca.fit_transform(X)\n",
    "    \n",
    "    # Reconstruction\n",
    "    X_reconstructed = pca.inverse_transform(X_pca)\n",
    "    \n",
    "    return pca, X_pca, X_reconstructed"
   ]
  }
 ],
 "metadata": {
  "kernelspec": {
   "display_name": "Python 3 (ipykernel)",
   "language": "python",
   "name": "python3"
  },
  "language_info": {
   "codemirror_mode": {
    "name": "ipython",
    "version": 3
   },
   "file_extension": ".py",
   "mimetype": "text/x-python",
   "name": "python",
   "nbconvert_exporter": "python",
   "pygments_lexer": "ipython3",
   "version": "3.12.4"
  }
 },
 "nbformat": 4,
 "nbformat_minor": 5
}
